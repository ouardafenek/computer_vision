{
 "cells": [
  {
   "cell_type": "code",
   "execution_count": 1,
   "metadata": {},
   "outputs": [],
   "source": [
    "import matplotlib\n",
    "import matplotlib.pyplot as plt\n",
    "%matplotlib inline  \n",
    "import numpy as np\n",
    "from tools import *\n",
    "from scipy import ndimage\n",
    "from math import *"
   ]
  },
  {
   "cell_type": "markdown",
   "metadata": {},
   "source": [
    "# Partie 1 : SIFT"
   ]
  },
  {
   "cell_type": "code",
   "execution_count": 2,
   "metadata": {},
   "outputs": [
    {
     "data": {
      "text/plain": [
       "<matplotlib.image.AxesImage at 0xb1a364518>"
      ]
     },
     "execution_count": 2,
     "metadata": {},
     "output_type": "execute_result"
    },
    {
     "data": {
      "image/png": "[encoded data removed]",
      "text/plain": [
       "<Figure size 432x288 with 1 Axes>"
      ]
     },
     "metadata": {},
     "output_type": "display_data"
    }
   ],
   "source": [
    "# example images\n",
    "I = read_grayscale('data/tools.tiff')\n",
    "I2 = read_grayscale('data/Scene/CALsuburb/image_0205.jpg')\n",
    "plt.imshow(I)"
   ]
  },
  {
   "cell_type": "code",
   "execution_count": 3,
   "metadata": {},
   "outputs": [],
   "source": [
    "def compute_grad(I):\n",
    "    h_x = np.array([-0.5,0,0.5])\n",
    "    h_y = np.array([0.5,1,0.5])\n",
    "    Mx = conv_separable(I, h_y, h_x)\n",
    "    My = conv_separable(I, h_x, h_y)\n",
    "    Ix = ndimage.convolve(I, Mx)\n",
    "    Iy = ndimage.convolve(I, My)\n",
    "    return Ix, Iy"
   ]
  },
  {
   "cell_type": "code",
   "execution_count": null,
   "metadata": {
    "collapsed": true
   },
   "outputs": [],
   "source": [
    "# example d'affichage du résultat\n",
    "Ix, Iy = compute_grad(I)\n",
    "plt.imshow(Ix)\n",
    "plt.colorbar()\n",
    "plt.show()\n",
    "plt.imshow(Iy)\n",
    "plt.colorbar()\n",
    "plt.show()"
   ]
  },
  {
   "cell_type": "code",
   "execution_count": 4,
   "metadata": {},
   "outputs": [],
   "source": [
    "def compute_grad_mod_ori(I):\n",
    "    Ix, Iy = compute_grad(I)\n",
    "    Gn = np.sqrt( Ix * Ix + Iy * Iy) \n",
    "    Go = compute_grad_ori(Ix, Iy, Gn)\n",
    "    return Gn, Go"
   ]
  },
  {
   "cell_type": "code",
   "execution_count": 5,
   "metadata": {},
   "outputs": [],
   "source": [
    "Gn, Go = compute_grad_mod_ori(I)"
   ]
  },
  {
   "cell_type": "markdown",
   "metadata": {},
   "source": [
    "On va maintenant travailler sur un patch "
   ]
  },
  {
   "cell_type": "code",
   "execution_count": 6,
   "metadata": {},
   "outputs": [],
   "source": [
    "def extract_patch(I,xi,yj):\n",
    "    patch=[]\n",
    "    if xi+16 > len(I): \n",
    "        xi = xi - ((xi+16) % len(I))\n",
    "    if yj+16 > len(I[0]): \n",
    "        yj = yj - ((yj+16) % len(I[0]))\n",
    "    for i in range (xi,xi+16):\n",
    "        patch.append(I[i][yj:yj+16])\n",
    "    return np.asarray(patch)\n",
    "\n",
    "def pond_patch(patch,sigma):\n",
    "    m =np.mean(patch) \n",
    "    for i in range(patch.shape[0]): \n",
    "        for j in range(patch.shape[1]):  \n",
    "            patch[i][j]= (1/(sigma*sqrt(2*pi)))*exp(-(((patch[i][j]-m)/(2*sigma))**2))\n",
    "    return patch "
   ]
  },
  {
   "cell_type": "code",
   "execution_count": 7,
   "metadata": {},
   "outputs": [
    {
     "data": {
      "text/plain": [
       "<matplotlib.image.AxesImage at 0xb1a51f438>"
      ]
     },
     "execution_count": 7,
     "metadata": {},
     "output_type": "execute_result"
    },
    {
     "data": {
      "image/png": "[encoded data removed]",
      "text/plain": [
       "<Figure size 432x288 with 1 Axes>"
      ]
     },
     "metadata": {},
     "output_type": "display_data"
    }
   ],
   "source": [
    "patch=extract_patch(I,5,150)\n",
    "plt.imshow(patch)"
   ]
  },
  {
   "cell_type": "code",
   "execution_count": 8,
   "metadata": {},
   "outputs": [
    {
     "data": {
      "text/plain": [
       "<matplotlib.image.AxesImage at 0xb1a9d2dd8>"
      ]
     },
     "execution_count": 8,
     "metadata": {},
     "output_type": "execute_result"
    },
    {
     "data": {
      "image/png": "[encoded data removed]",
      "text/plain": [
       "<Figure size 432x288 with 1 Axes>"
      ]
     },
     "metadata": {},
     "output_type": "display_data"
    }
   ],
   "source": [
    "Gn, Go = compute_grad_mod_ori(patch)\n",
    "Gn_pond=pond_patch(Gn,8)\n",
    "plt.imshow(Gn_pond)"
   ]
  },
  {
   "cell_type": "code",
   "execution_count": 9,
   "metadata": {},
   "outputs": [],
   "source": [
    "def extract_regions(patch):\n",
    "    regs=[]\n",
    "    for i in range(0,16,4):\n",
    "        for k in range(i,i+4):\n",
    "            reg=[]\n",
    "            for j in range(0,16,4):\n",
    "                reg.append(patch[k][j:j+4])\n",
    "            regs.append(reg)\n",
    "    return np.asarray(regs)\n",
    "\n",
    "def construct_hist(Gn,Go):\n",
    "    regions_pond = extract_regions(Gn)\n",
    "    regions_orient = extract_regions(Go)\n",
    "    Renc = np.zeros((16,8))\n",
    "    for k in range(16):\n",
    "        for j in range(8):\n",
    "            Renc[k][j]=regions_pond[k][np.where(regions_orient[k] == j)].sum()\n",
    "    return Renc.reshape(16*8)\n",
    "\n",
    "def post_processing(Penc):\n",
    "    \n",
    "    if np.linalg.norm(Penc) < 0.5 : \n",
    "        return np.zeros(len(Penc))\n",
    "    else: \n",
    "        #normaliser le vecteur \n",
    "        Penc /= np.linalg.norm(Penc)\n",
    "    Penc = np.where(Penc <= 0.2 , Penc, 0.2) \n",
    "    Penc /= np.linalg.norm(Penc)\n",
    "    return Penc \n",
    "        "
   ]
  },
  {
   "cell_type": "code",
   "execution_count": 10,
   "metadata": {},
   "outputs": [],
   "source": [
    "Penc=construct_hist(Gn_pond,Go)"
   ]
  },
  {
   "cell_type": "code",
   "execution_count": 11,
   "metadata": {},
   "outputs": [],
   "source": [
    "def compute_sift_region(Gn, Go, mask=None):\n",
    "    # TODO\n",
    "    Penc = construct_hist(Gn,Go)\n",
    "    sift = post_processing(Penc)\n",
    "    # Note: to apply the mask only when given, do:\n",
    "    if mask is not None:\n",
    "        width = 16 \n",
    "        Gn_pond = pond_patch(Gn, mask*width)\n",
    "        Penc = construct_hist(Gn_pond,Go)\n",
    "        sift = post_processing(Penc)\n",
    "    return sift"
   ]
  },
  {
   "cell_type": "code",
   "execution_count": null,
   "metadata": {},
   "outputs": [],
   "source": [
    "# Example of viz of SIFTs\n",
    "# set gausm to True to apply mask weighting of gradients\n",
    "display_sift_region(I,           compute_grad_mod_ori, compute_sift_region, x=200, y=78, gausm=False)\n",
    "#display_sift_region(marche_im(), compute_grad_mod_ori, compute_sift_region, x=100, y=125, gausm=False)\n",
    "#display_sift_region(marche_im(), compute_grad_mod_ori, compute_sift_region, x=100, y=125, gausm=False)\n",
    "#display_sift_region(marche_im(), compute_grad_mod_ori, compute_sift_region, x=125, y=100, gausm=False)\n",
    "#display_sift_region(marche_im(), compute_grad_mod_ori, compute_sift_region, x=121, y=121, gausm=False)\n",
    "#display_sift_region(toy_im(),    compute_grad_mod_ori, compute_sift_region, x=95, y=95, gausm=False)"
   ]
  },
  {
   "cell_type": "code",
   "execution_count": null,
   "metadata": {},
   "outputs": [],
   "source": [
    "display_sift_region(marche_im(), compute_grad_mod_ori, compute_sift_region, x=100, y=125, gausm=False)"
   ]
  },
  {
   "cell_type": "code",
   "execution_count": null,
   "metadata": {},
   "outputs": [],
   "source": [
    "display_sift_region(toy_im(),    compute_grad_mod_ori, compute_sift_region, x=95, y=95, gausm=False)"
   ]
  },
  {
   "cell_type": "code",
   "execution_count": null,
   "metadata": {},
   "outputs": [],
   "source": [
    "def compute_sift_image(I):\n",
    "    x, y = dense_sampling(I)\n",
    "    im = auto_padding(I)\n",
    "    # TODO calculs communs aux patchs\n",
    "    sifts = np.zeros((len(x), len(y), 128))\n",
    "    for i, xi in enumerate(x):\n",
    "        for j, yj in enumerate(y):\n",
    "            patch = extract_patch(I,xi,yj)\n",
    "            Gn,Go = compute_grad_mod_ori(patch)\n",
    "            sifts[i, j, :] = compute_sift_region(Gn, Go, mask=None) # SIFT du patch de coordonnee (xi, yj)\n",
    "    return sifts"
   ]
  },
  {
   "cell_type": "code",
   "execution_count": null,
   "metadata": {},
   "outputs": [],
   "source": [
    "sifts = compute_sift_image(I)"
   ]
  },
  {
   "cell_type": "markdown",
   "metadata": {},
   "source": [
    "# Partie 2 : Dictionnaire visuel"
   ]
  },
  {
   "cell_type": "code",
   "execution_count": null,
   "metadata": {
    "collapsed": true
   },
   "outputs": [],
   "source": [
    "# Ideally, restart the Python kernel to start from a clean slate\n",
    "import os\n",
    "import numpy as np\n",
    "from tools import *\n",
    "from sift import *\n",
    "from sklearn.cluster import KMeans"
   ]
  },
  {
   "cell_type": "code",
   "execution_count": null,
   "metadata": {
    "collapsed": true
   },
   "outputs": [],
   "source": [
    "# Paths config\n",
    "dir_sc = os.path.join('data', 'Scene')\n",
    "dir_sift = os.path.join('data', 'sift')\n",
    "path_vdict = os.path.join('data', 'kmeans', 'vdict.npy')\n",
    "path_vdsift = os.path.join('data', 'kmeans', 'vdsift.npy')\n",
    "path_vdinames = os.path.join('data', 'kmeans', 'vdinames.npy')\n",
    "\n",
    "inames, ilabls, cnames = load_dataset(dir_sc)"
   ]
  },
  {
   "cell_type": "code",
   "execution_count": null,
   "metadata": {
    "collapsed": true
   },
   "outputs": [],
   "source": [
    "# If you want to look at the SIFTs that will be fed to compute_visual_dict:\n",
    "sifts_list_by_image = compute_load_sift_dataset(dir_sc, dir_sift, inames, compute_sift_image)"
   ]
  },
  {
   "cell_type": "code",
   "execution_count": null,
   "metadata": {
    "collapsed": true
   },
   "outputs": [],
   "source": [
    "# Code here the `compute_visual_dict` function\n",
    "def compute_visual_dict(sift, n_clusters=50, n_init=1, verbose=1):\n",
    "    # reorder data\n",
    "    dim_sift = sift[0].shape[-1]\n",
    "    sift = [s.reshape(-1, dim_sift) for s in sift]\n",
    "    sift = np.concatenate(sift, axis=0)\n",
    "    # remove zero vectors\n",
    "    keep = ~np.all(sift==0, axis=1)\n",
    "    sift = sift[keep]\n",
    "    # randomly pick sift\n",
    "    ids, _ = compute_split(sift.shape[0], pc=0.05)\n",
    "    sift = sift[ids]\n",
    "    \n",
    "    # TODO compute kmeans on `sift`, get cluster centers, add zeros vector\n",
    "    kmeans = KMeans(n_clusters, random_state=0).fit(sift)\n",
    "    centers = kmeans.cluster_centers_\n",
    "    centers =np.concatenate((centers, [np.zeros(len(centers[0]))]), axis=0)\n",
    "    return kmeans,centers "
   ]
  },
  {
   "cell_type": "code",
   "execution_count": null,
   "metadata": {
    "collapsed": true
   },
   "outputs": [],
   "source": [
    "# Run the visual dict computation (saved the first time)\n",
    "vidct = compute_or_load_vdict(dir_sc, dir_sift, inames, compute_sift_image, path_vdict, compute_visual_dict)"
   ]
  },
  {
   "cell_type": "code",
   "execution_count": null,
   "metadata": {
    "collapsed": true
   },
   "outputs": [],
   "source": [
    "# Study of the dict\n",
    "regions, sifts = get_regions_and_sifts(dir_sc, np.random.choice(inames, 30)) # Compute SIFT and regions from 30 random images\n",
    "display_images(regions[np.random.choice(len(regions), 100)]) # Show 100 random regions\n"
   ]
  },
  {
   "cell_type": "code",
   "execution_count": null,
   "metadata": {
    "collapsed": true
   },
   "outputs": [],
   "source": [
    "\n",
    "# TODO visually analyze the dict through similar example regions\n",
    "#\n",
    "# Ideally, create `vdregions`, a numpy array of size 1001 x 16 x 16 where each of the 1001 elements is a\n",
    "# \"prototype\" patch that is very close to the cluster centerz"
   ]
  },
  {
   "cell_type": "code",
   "execution_count": 15,
   "metadata": {},
   "outputs": [
    {
     "data": {
      "text/plain": [
       "array([5, 5])"
      ]
     },
     "execution_count": 15,
     "metadata": {},
     "output_type": "execute_result"
    }
   ],
   "source": [
    "np.sum(np.array(([1,2],[4,3])),axis=0)"
   ]
  },
  {
   "cell_type": "code",
   "execution_count": 20,
   "metadata": {},
   "outputs": [
    {
     "data": {
      "text/plain": [
       "0.9999999999999999"
      ]
     },
     "execution_count": 20,
     "metadata": {},
     "output_type": "execute_result"
    }
   ],
   "source": [
    "Penc=np.array([1,2,3,4])\n",
    "n=np.linalg.norm(Penc)\n",
    "np.linalg.norm(Penc/n)"
   ]
  },
  {
   "cell_type": "markdown",
   "metadata": {},
   "source": [
    "# Partie 3 : BoW"
   ]
  },
  {
   "cell_type": "code",
   "execution_count": null,
   "metadata": {
    "collapsed": true
   },
   "outputs": [],
   "source": [
    "# Compute BoW for an image\n",
    "\n",
    "def compute_feats(vdict, image_sifts):\n",
    "    # TODO compute BoW from `image_sifts\n",
    "    `H=np.zeros((len(image_sifts),len(vdict)))\n",
    "    for i,sift in enumerate(image_sifts):\n",
    "        min_dist=1000\n",
    "        for j,center in enumerate(vdict):\n",
    "            dist=np.sum((sift-center)**2)\n",
    "            if dist<min_dist:\n",
    "                close_center=j\n",
    "                min_dist=dist\n",
    "        H[i,close_center]=1  \n",
    "    z= np.sum(H,axis=0)   \n",
    "    return np.linalg.norm(z)"
   ]
  },
  {
   "cell_type": "code",
   "execution_count": null,
   "metadata": {
    "collapsed": true
   },
   "outputs": [],
   "source": [
    "# Visualize your BoW on an image\n",
    "\n",
    "iname = inames[0]\n",
    "ipath = os.path.join(dir_sc, iname)\n",
    "im = read_grayscale(ipath)\n",
    "sift = compute_sift_image(im)\n",
    "regions = compute_regions(im)\n",
    "feats = compute_feats(vdict, sift)\n",
    "\n",
    "display_vdregions_image(im, vdict, sift, feats, vdregions=None) # if you have vdregions, add it as input here"
   ]
  }
 ],
 "metadata": {
  "kernelspec": {
   "display_name": "Python 3",
   "language": "python",
   "name": "python3"
  },
  "language_info": {
   "codemirror_mode": {
    "name": "ipython",
    "version": 3
   },
   "file_extension": ".py",
   "mimetype": "text/x-python",
   "name": "python",
   "nbconvert_exporter": "python",
   "pygments_lexer": "ipython3",
   "version": "3.6.5"
  }
 },
 "nbformat": 4,
 "nbformat_minor": 2
}
