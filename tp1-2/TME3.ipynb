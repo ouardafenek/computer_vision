{
 "cells": [
  {
   "cell_type": "code",
   "execution_count": 1,
   "metadata": {},
   "outputs": [],
   "source": [
    "import matplotlib\n",
    "import matplotlib.pyplot as plt\n",
    "%matplotlib inline  \n",
    "import numpy as np\n",
    "from tools import *\n",
    "from scipy import ndimage\n",
    "from math import *\n",
    "import operator"
   ]
  },
  {
   "cell_type": "code",
   "execution_count": 2,
   "metadata": {},
   "outputs": [],
   "source": [
    "from sklearn.svm import SVC"
   ]
  },
  {
   "cell_type": "code",
   "execution_count": 3,
   "metadata": {},
   "outputs": [],
   "source": [
    "data = np.load(\"15_scenes_Xy.npz\", \"rb\") \n",
    "datax=data[\"X\"] \n",
    "datay=data[\"y\"] \n",
    "tmp_ids,test_ids=compute_split(len(datax))\n",
    "tmp_x=datax[tmp_ids]\n",
    "tmp_y=datay[tmp_ids]\n",
    "test_x=datax[test_ids]\n",
    "test_y=datay[test_ids]"
   ]
  },
  {
   "cell_type": "code",
   "execution_count": 8,
   "metadata": {},
   "outputs": [],
   "source": [
    "def one_vs_all(c,datax,datay): \n",
    "    svms=dict()\n",
    "    for cl in np.sort(np.unique(datay)):\n",
    "        #print('classe:',cl)\n",
    "        clf = SVC(C=c,gamma='auto',probability=True)\n",
    "        dataycl = np.where(datay ==cl , 1., -1.) # transformation des étiquettes en {0, 1}       \n",
    "        clf.fit(datax, dataycl)\n",
    "        svms[cl]=clf\n",
    "    return svms  "
   ]
  },
  {
   "cell_type": "code",
   "execution_count": 31,
   "metadata": {},
   "outputs": [
    {
     "data": {
      "text/plain": [
       "array([1, 3, 5, 7, 9])"
      ]
     },
     "execution_count": 31,
     "metadata": {},
     "output_type": "execute_result"
    }
   ],
   "source": [
    "np.arange (1,10,2)"
   ]
  },
  {
   "cell_type": "code",
   "execution_count": 24,
   "metadata": {},
   "outputs": [],
   "source": [
    "def learning_svm(datax,datay, datax_test, datay_test):\n",
    "    scores=[]\n",
    "    scores_test = []\n",
    "    for c in range(1,10,2):\n",
    "        print(\"C= \",c)\n",
    "        probas = []\n",
    "        probas_test=[]\n",
    "        \n",
    "        train_ids,val_ids=compute_split(len(datax),seed=1337,pc=0.7)\n",
    "        train_x=datax[train_ids]\n",
    "        train_y=datay[train_ids]\n",
    "        val_x=datax[val_ids]\n",
    "        val_y=datay[val_ids]\n",
    "        svms = one_vs_all(c,train_x,train_y)\n",
    "        for cl in svms.keys():\n",
    "            clf = svms[cl]\n",
    "            probas.append(clf.predict_proba(val_x)[:,1])\n",
    "            probas_test.append(clf.predict_proba(datax_test)[:,1])\n",
    "        probas = np.array(probas)\n",
    "        probas_test =np.array(probas_test)\n",
    "        #print(probas)\n",
    "        #print(\"probas.shape\",probas.shape)\n",
    "        ypred = np.argmax(probas,axis=0)  \n",
    "        ypred_test = np.argmax(probas_test,axis=0)\n",
    "        #print(\"ypred\",ypred)\n",
    "        \n",
    "        #print(len(val_y))\n",
    "        #print(\"val_y\",val_y)\n",
    "        #print(\"ypred==val_y\",np.where(ypred==val_y))\n",
    "        print(\"score validation:\",np.mean(ypred==val_y))\n",
    "        print(\"score test: \",np.mean(ypred_test==datay_test))\n",
    "        scores.append(np.mean(ypred==val_y))   \n",
    "        scores_test.append(np.mean(ypred_test==datay_test))\n",
    "    return range(1,10,2),scores, scores_test   "
   ]
  },
  {
   "cell_type": "code",
   "execution_count": 25,
   "metadata": {
    "scrolled": false
   },
   "outputs": [
    {
     "name": "stdout",
     "output_type": "stream",
     "text": [
      "C=  1\n",
      "score validation: 0.564531104921077\n",
      "score test:  0.5629877369007804\n",
      "C=  3\n",
      "score validation: 0.5914577530176416\n",
      "score test:  0.5797101449275363\n",
      "C=  5\n",
      "score validation: 0.5905292479108635\n",
      "score test:  0.5830546265328874\n",
      "C=  7\n",
      "score validation: 0.5923862581244197\n",
      "score test:  0.5819397993311036\n",
      "C=  9\n",
      "score validation: 0.5914577530176416\n",
      "score test:  0.5830546265328874\n"
     ]
    }
   ],
   "source": [
    "c_values,scores, scores_test =learning_svm(tmp_x,tmp_y, test_x,test_y)"
   ]
  },
  {
   "cell_type": "code",
   "execution_count": 36,
   "metadata": {},
   "outputs": [
    {
     "data": {
      "text/plain": [
       "<matplotlib.legend.Legend at 0x11ba89780>"
      ]
     },
     "execution_count": 36,
     "metadata": {},
     "output_type": "execute_result"
    },
    {
     "data": {
      "image/png": "[encoded data removed]",
      "text/plain": [
       "<Figure size 432x288 with 1 Axes>"
      ]
     },
     "metadata": {},
     "output_type": "display_data"
    }
   ],
   "source": [
    "plt.plot(c_values,scores)\n",
    "plt.plot(c_values,scores_test)\n",
    "plt.xlabel('Valeurs de C')\n",
    "plt.ylabel('Performances')\n",
    "plt.legend(['scores en validation','scores en test'])"
   ]
  },
  {
   "cell_type": "code",
   "execution_count": 27,
   "metadata": {},
   "outputs": [
    {
     "name": "stdout",
     "output_type": "stream",
     "text": [
      "C=  0.1\n",
      "score validation: 0.5571030640668524\n",
      "score test:  0.5518394648829431\n",
      "C=  0.2\n",
      "score validation: 0.5571030640668524\n",
      "score test:  0.5562987736900781\n",
      "C=  0.3\n",
      "score validation: 0.552460538532962\n",
      "score test:  0.5518394648829431\n",
      "C=  0.4\n",
      "score validation: 0.5626740947075209\n",
      "score test:  0.5540691192865106\n",
      "C=  0.5\n",
      "score validation: 0.5543175487465181\n",
      "score test:  0.5551839464882943\n",
      "C=  1\n",
      "score validation: 0.5626740947075209\n",
      "score test:  0.5652173913043478\n"
     ]
    }
   ],
   "source": [
    "def learning_svm(datax,datay, datax_test, datay_test):\n",
    "    scores=[]\n",
    "    scores_test = []\n",
    "    for c in [0.1 , 0.2 , 0.3 , 0.4 , 0.5 , 1]:\n",
    "        print(\"C= \",c)\n",
    "        probas = []\n",
    "        probas_test=[]\n",
    "        \n",
    "        train_ids,val_ids=compute_split(len(datax),seed=1337,pc=0.7)\n",
    "        train_x=datax[train_ids]\n",
    "        train_y=datay[train_ids]\n",
    "        val_x=datax[val_ids]\n",
    "        val_y=datay[val_ids]\n",
    "        svms = one_vs_all(c,train_x,train_y)\n",
    "        for cl in svms.keys():\n",
    "            clf = svms[cl]\n",
    "            probas.append(clf.predict_proba(val_x)[:,1])\n",
    "            probas_test.append(clf.predict_proba(datax_test)[:,1])\n",
    "        probas = np.array(probas)\n",
    "        probas_test =np.array(probas_test)\n",
    "        #print(probas)\n",
    "        #print(\"probas.shape\",probas.shape)\n",
    "        ypred = np.argmax(probas,axis=0)  \n",
    "        ypred_test = np.argmax(probas_test,axis=0)\n",
    "        #print(\"ypred\",ypred)\n",
    "        \n",
    "        #print(len(val_y))\n",
    "        #print(\"val_y\",val_y)\n",
    "        #print(\"ypred==val_y\",np.where(ypred==val_y))\n",
    "        print(\"score validation:\",np.mean(ypred==val_y))\n",
    "        print(\"score test: \",np.mean(ypred_test==datay_test))\n",
    "        scores.append(np.mean(ypred==val_y))   \n",
    "        scores_test.append(np.mean(ypred_test==datay_test))\n",
    "    return [0.1 , 0.2 , 0.3 , 0.4 , 0.5 , 1],scores, scores_test   \n",
    "\n",
    "\n",
    "c_values2,scores2,scores_test2=learning_svm(tmp_x,tmp_y, test_x,test_y)"
   ]
  },
  {
   "cell_type": "code",
   "execution_count": 34,
   "metadata": {},
   "outputs": [
    {
     "data": {
      "text/plain": [
       "<matplotlib.legend.Legend at 0x11b863a20>"
      ]
     },
     "execution_count": 34,
     "metadata": {},
     "output_type": "execute_result"
    },
    {
     "data": {
      "image/png": "[encoded data removed]",
      "text/plain": [
       "<Figure size 432x288 with 1 Axes>"
      ]
     },
     "metadata": {},
     "output_type": "display_data"
    }
   ],
   "source": [
    "plt.plot(c_values2,scores2)\n",
    "plt.plot(c_values2,scores_test2)\n",
    "plt.xlabel('Valeurs de C')\n",
    "plt.ylabel('Performances')\n",
    "plt.legend(['scores en validation','scores en test'])"
   ]
  },
  {
   "cell_type": "code",
   "execution_count": null,
   "metadata": {},
   "outputs": [],
   "source": []
  }
 ],
 "metadata": {
  "kernelspec": {
   "display_name": "Python 3",
   "language": "python",
   "name": "python3"
  },
  "language_info": {
   "codemirror_mode": {
    "name": "ipython",
    "version": 3
   },
   "file_extension": ".py",
   "mimetype": "text/x-python",
   "name": "python",
   "nbconvert_exporter": "python",
   "pygments_lexer": "ipython3",
   "version": "3.6.5"
  }
 },
 "nbformat": 4,
 "nbformat_minor": 2
}
