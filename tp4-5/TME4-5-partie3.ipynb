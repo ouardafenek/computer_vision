{
 "cells": [
  {
   "cell_type": "code",
   "execution_count": 1,
   "metadata": {},
   "outputs": [],
   "source": [
    "import numpy as np\n",
    "import math\n",
    "import torch\n",
    "import matplotlib.pyplot as plt\n",
    "from tme5 import CirclesData\n",
    "from random import gauss "
   ]
  },
  {
   "cell_type": "code",
   "execution_count": 18,
   "metadata": {},
   "outputs": [],
   "source": [
    "def init_model(nx, nh, ny):\n",
    "    model = torch.nn.Sequential(\n",
    "        torch.nn.Linear(nx, nh),\n",
    "        torch.nn.ReLU(),\n",
    "        torch.nn.Linear(nh, ny),\n",
    "        torch.nn.Sigmoid()\n",
    "    )\n",
    "    loss = torch.nn.MSELoss()\n",
    "    return model, loss"
   ]
  },
  {
   "cell_type": "code",
   "execution_count": 19,
   "metadata": {},
   "outputs": [],
   "source": [
    "def sgd(model, eta):\n",
    "    with torch.no_grad():\n",
    "        for param in model.parameters():\n",
    "            param -= eta * param.grad\n",
    "        model.zero_grad()"
   ]
  },
  {
   "cell_type": "code",
   "execution_count": 35,
   "metadata": {
    "scrolled": true
   },
   "outputs": [
    {
     "name": "stdout",
     "output_type": "stream",
     "text": [
      "Loss in Test 0.463855504989624\n"
     ]
    },
    {
     "data": {
      "image/png": "[encoded data removed]",
      "text/plain": [
       "<Figure size 432x288 with 1 Axes>"
      ]
     },
     "metadata": {},
     "output_type": "display_data"
    }
   ],
   "source": [
    "if __name__ == '__main__':\n",
    "    data = CirclesData()\n",
    "    #data.plot_data()\n",
    "    N = data.Xtrain.shape[0]\n",
    "    Nbatch = 10\n",
    "    nx = data.Xtrain.shape[1]\n",
    "    nh = 10\n",
    "    ny = data.Ytrain.shape[1]\n",
    "    eta = 0.03\n",
    "    data.Xtrain.requires_grad = True\n",
    "    data.Ytrain.requires_grad = True\n",
    "    model, loss = init_model(nx, nh, ny)\n",
    "    Nepoch = 300 \n",
    "    train_losses = []\n",
    "    for i in range(Nepoch): \n",
    "        for j in range (int(N/Nbatch)):\n",
    "            ind = np.random.randint(0,data.Xtrain.shape[1],Nbatch) \n",
    "            Xbatch = data.Xtrain[ind]\n",
    "            Ybatch = data.Ytrain[ind]\n",
    "            Yhat = model(Xbatch)\n",
    "            L = loss(Yhat, Ybatch)\n",
    "            L.backward()\n",
    "            sgd(model,eta)\n",
    "        train_losses.append(L.item())   \n",
    "\n",
    "    ypred = model(data.Xtest)\n",
    "    l = loss(ypred, data.Ytest)\n",
    "    print(\"Loss in Test\",l.item())\n",
    "    plt.plot(np.arange(Nepoch),train_losses)\n",
    "    plt.ylabel('train_losses')\n",
    "    plt.xlabel('Nepochs')\n",
    "    plt.show() \n",
    "    \n",
    "\n"
   ]
  },
  {
   "cell_type": "code",
   "execution_count": null,
   "metadata": {},
   "outputs": [],
   "source": []
  }
 ],
 "metadata": {
  "kernelspec": {
   "display_name": "Python 3",
   "language": "python",
   "name": "python3"
  },
  "language_info": {
   "codemirror_mode": {
    "name": "ipython",
    "version": 3
   },
   "file_extension": ".py",
   "mimetype": "text/x-python",
   "name": "python",
   "nbconvert_exporter": "python",
   "pygments_lexer": "ipython3",
   "version": "3.6.5"
  }
 },
 "nbformat": 4,
 "nbformat_minor": 2
}
