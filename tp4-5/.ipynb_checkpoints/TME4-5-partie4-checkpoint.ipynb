{
 "cells": [
  {
   "cell_type": "markdown",
   "metadata": {},
   "source": [
    "# Réseaux de neurones"
   ]
  },
  {
   "cell_type": "code",
   "execution_count": 8,
   "metadata": {},
   "outputs": [],
   "source": [
    "import numpy as np\n",
    "import math\n",
    "import torch\n",
    "import matplotlib.pyplot as plt\n",
    "from tme5 import CirclesData\n",
    "from tme5 import MNISTData\n",
    "from random import gauss "
   ]
  },
  {
   "cell_type": "code",
   "execution_count": 9,
   "metadata": {},
   "outputs": [],
   "source": [
    "def init_model(nx, nh, ny, eta): \n",
    "    model = torch.nn.Sequential(\n",
    "        torch.nn.Linear(nx, nh),\n",
    "        torch.nn.ReLU(),\n",
    "        torch.nn.Linear(nh, ny),\n",
    "        torch.nn.Sigmoid()\n",
    "        )\n",
    "    loss = torch.nn.MSELoss()\n",
    "    optim = torch.optim.SGD(model.parameters(), lr=eta)\n",
    "    return model, loss, optim"
   ]
  },
  {
   "cell_type": "code",
   "execution_count": 10,
   "metadata": {
    "scrolled": true
   },
   "outputs": [
    {
     "name": "stdout",
     "output_type": "stream",
     "text": [
      "Loss in Test 0.44508522748947144\n"
     ]
    },
    {
     "data": {
      "image/png": "[encoded data removed]",
      "text/plain": [
       "<Figure size 432x288 with 1 Axes>"
      ]
     },
     "metadata": {},
     "output_type": "display_data"
    }
   ],
   "source": [
    "if __name__ == '__main__':\n",
    "    data = CirclesData()\n",
    "    #data.plot_data()\n",
    "    N = data.Xtrain.shape[0]\n",
    "    Nbatch = 10\n",
    "    nx = data.Xtrain.shape[1]\n",
    "    nh = 10\n",
    "    ny = data.Ytrain.shape[1]\n",
    "    eta = 0.03\n",
    "    data.Xtrain.requires_grad = True\n",
    "    data.Ytrain.requires_grad = True\n",
    "    model, loss, optim = init_model(nx, nh, ny,eta)\n",
    "    Nepoch = 300 \n",
    "    train_losses = []\n",
    "    for i in range(Nepoch): \n",
    "        for j in range (int(N/Nbatch)):\n",
    "            ind = np.random.randint(0,data.Xtrain.shape[1],Nbatch) \n",
    "            Xbatch = data.Xtrain[ind]\n",
    "            Ybatch = data.Ytrain[ind]\n",
    "            Yhat = model(Xbatch)\n",
    "            L = loss(Yhat, Ybatch)\n",
    "            optim.zero_grad()\n",
    "            L.backward()\n",
    "            optim.step() \n",
    "        train_losses.append(L.item())   \n",
    "\n",
    "    ypred = model(data.Xtest)\n",
    "    l = loss(ypred, data.Ytest)\n",
    "    print(\"Loss in Test\",l.item())\n",
    "    plt.plot(np.arange(Nepoch),train_losses)\n",
    "    plt.ylabel('train_losses')\n",
    "    plt.xlabel('Nepochs')\n",
    "    plt.show() \n",
    "    \n",
    "\n"
   ]
  },
  {
   "cell_type": "code",
   "execution_count": 15,
   "metadata": {},
   "outputs": [
    {
     "ename": "KeyboardInterrupt",
     "evalue": "",
     "output_type": "error",
     "traceback": [
      "\u001b[0;31m---------------------------------------------------------------------------\u001b[0m",
      "\u001b[0;31mKeyboardInterrupt\u001b[0m                         Traceback (most recent call last)",
      "\u001b[0;32m<ipython-input-15-20d287a2912b>\u001b[0m in \u001b[0;36m<module>\u001b[0;34m()\u001b[0m\n\u001b[1;32m     19\u001b[0m         \u001b[0mL\u001b[0m \u001b[0;34m=\u001b[0m \u001b[0mloss\u001b[0m\u001b[0;34m(\u001b[0m\u001b[0mYhat\u001b[0m\u001b[0;34m,\u001b[0m \u001b[0mYbatch\u001b[0m\u001b[0;34m)\u001b[0m\u001b[0;34m\u001b[0m\u001b[0m\n\u001b[1;32m     20\u001b[0m         \u001b[0moptim\u001b[0m\u001b[0;34m.\u001b[0m\u001b[0mzero_grad\u001b[0m\u001b[0;34m(\u001b[0m\u001b[0;34m)\u001b[0m\u001b[0;34m\u001b[0m\u001b[0m\n\u001b[0;32m---> 21\u001b[0;31m         \u001b[0mL\u001b[0m\u001b[0;34m.\u001b[0m\u001b[0mbackward\u001b[0m\u001b[0;34m(\u001b[0m\u001b[0;34m)\u001b[0m\u001b[0;34m\u001b[0m\u001b[0m\n\u001b[0m\u001b[1;32m     22\u001b[0m         \u001b[0moptim\u001b[0m\u001b[0;34m.\u001b[0m\u001b[0mstep\u001b[0m\u001b[0;34m(\u001b[0m\u001b[0;34m)\u001b[0m\u001b[0;34m\u001b[0m\u001b[0m\n\u001b[1;32m     23\u001b[0m     \u001b[0mtrain_losses\u001b[0m\u001b[0;34m.\u001b[0m\u001b[0mappend\u001b[0m\u001b[0;34m(\u001b[0m\u001b[0mL\u001b[0m\u001b[0;34m.\u001b[0m\u001b[0mitem\u001b[0m\u001b[0;34m(\u001b[0m\u001b[0;34m)\u001b[0m\u001b[0;34m)\u001b[0m\u001b[0;34m\u001b[0m\u001b[0m\n",
      "\u001b[0;32m/anaconda3/lib/python3.6/site-packages/torch/tensor.py\u001b[0m in \u001b[0;36mbackward\u001b[0;34m(self, gradient, retain_graph, create_graph)\u001b[0m\n\u001b[1;32m    116\u001b[0m                 \u001b[0mproducts\u001b[0m\u001b[0;34m.\u001b[0m \u001b[0mDefaults\u001b[0m \u001b[0mto\u001b[0m\u001b[0;31m \u001b[0m\u001b[0;31m`\u001b[0m\u001b[0;31m`\u001b[0m\u001b[0;32mFalse\u001b[0m\u001b[0;31m`\u001b[0m\u001b[0;31m`\u001b[0m\u001b[0;34m.\u001b[0m\u001b[0;34m\u001b[0m\u001b[0m\n\u001b[1;32m    117\u001b[0m         \"\"\"\n\u001b[0;32m--> 118\u001b[0;31m         \u001b[0mtorch\u001b[0m\u001b[0;34m.\u001b[0m\u001b[0mautograd\u001b[0m\u001b[0;34m.\u001b[0m\u001b[0mbackward\u001b[0m\u001b[0;34m(\u001b[0m\u001b[0mself\u001b[0m\u001b[0;34m,\u001b[0m \u001b[0mgradient\u001b[0m\u001b[0;34m,\u001b[0m \u001b[0mretain_graph\u001b[0m\u001b[0;34m,\u001b[0m \u001b[0mcreate_graph\u001b[0m\u001b[0;34m)\u001b[0m\u001b[0;34m\u001b[0m\u001b[0m\n\u001b[0m\u001b[1;32m    119\u001b[0m \u001b[0;34m\u001b[0m\u001b[0m\n\u001b[1;32m    120\u001b[0m     \u001b[0;32mdef\u001b[0m \u001b[0mregister_hook\u001b[0m\u001b[0;34m(\u001b[0m\u001b[0mself\u001b[0m\u001b[0;34m,\u001b[0m \u001b[0mhook\u001b[0m\u001b[0;34m)\u001b[0m\u001b[0;34m:\u001b[0m\u001b[0;34m\u001b[0m\u001b[0m\n",
      "\u001b[0;32m/anaconda3/lib/python3.6/site-packages/torch/autograd/__init__.py\u001b[0m in \u001b[0;36mbackward\u001b[0;34m(tensors, grad_tensors, retain_graph, create_graph, grad_variables)\u001b[0m\n\u001b[1;32m     91\u001b[0m     Variable._execution_engine.run_backward(\n\u001b[1;32m     92\u001b[0m         \u001b[0mtensors\u001b[0m\u001b[0;34m,\u001b[0m \u001b[0mgrad_tensors\u001b[0m\u001b[0;34m,\u001b[0m \u001b[0mretain_graph\u001b[0m\u001b[0;34m,\u001b[0m \u001b[0mcreate_graph\u001b[0m\u001b[0;34m,\u001b[0m\u001b[0;34m\u001b[0m\u001b[0m\n\u001b[0;32m---> 93\u001b[0;31m         allow_unreachable=True)  # allow_unreachable flag\n\u001b[0m\u001b[1;32m     94\u001b[0m \u001b[0;34m\u001b[0m\u001b[0m\n\u001b[1;32m     95\u001b[0m \u001b[0;34m\u001b[0m\u001b[0m\n",
      "\u001b[0;31mKeyboardInterrupt\u001b[0m: "
     ]
    }
   ],
   "source": [
    "data = MNISTData()\n",
    "N = data.Xtrain.shape[0]\n",
    "Nbatch = 500\n",
    "nx = data.Xtrain.shape[1]\n",
    "nh = 10\n",
    "ny = data.Ytrain.shape[1]\n",
    "eta = 0.03\n",
    "data.Xtrain.requires_grad = True\n",
    "data.Ytrain.requires_grad = True\n",
    "model, loss, optim = init_model(nx, nh, ny,eta)\n",
    "Nepoch = 300 \n",
    "train_losses = []\n",
    "for i in range(Nepoch): \n",
    "    for j in range (int(N/Nbatch)):\n",
    "        ind = np.random.randint(0,data.Xtrain.shape[1],Nbatch) \n",
    "        Xbatch = data.Xtrain[ind]\n",
    "        Ybatch = data.Ytrain[ind]\n",
    "        Yhat = model(Xbatch)\n",
    "        L = loss(Yhat, Ybatch)\n",
    "        optim.zero_grad()\n",
    "        L.backward()\n",
    "        optim.step() \n",
    "    train_losses.append(L.item())   \n",
    "\n",
    "ypred = model(data.Xtest)\n",
    "l = loss(ypred, data.Ytest)\n",
    "print(\"Loss in Test\",l.item())\n",
    "plt.plot(np.arange(Nepoch),train_losses)\n",
    "plt.ylabel('train_losses')\n",
    "plt.xlabel('Nepochs')\n",
    "plt.show() \n",
    "\n",
    "\n",
    "\n"
   ]
  },
  {
   "cell_type": "code",
   "execution_count": null,
   "metadata": {},
   "outputs": [],
   "source": []
  }
 ],
 "metadata": {
  "kernelspec": {
   "display_name": "Python 3",
   "language": "python",
   "name": "python3"
  },
  "language_info": {
   "codemirror_mode": {
    "name": "ipython",
    "version": 3
   },
   "file_extension": ".py",
   "mimetype": "text/x-python",
   "name": "python",
   "nbconvert_exporter": "python",
   "pygments_lexer": "ipython3",
   "version": "3.6.5"
  }
 },
 "nbformat": 4,
 "nbformat_minor": 2
}
