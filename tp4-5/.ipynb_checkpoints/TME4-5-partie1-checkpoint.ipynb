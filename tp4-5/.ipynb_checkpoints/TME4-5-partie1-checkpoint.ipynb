{
 "cells": [
  {
   "cell_type": "code",
   "execution_count": 178,
   "metadata": {},
   "outputs": [],
   "source": [
    "import numpy as np\n",
    "import math\n",
    "import torch\n",
    "import matplotlib.pyplot as plt\n",
    "from tme5 import CirclesData\n",
    "from random import gauss "
   ]
  },
  {
   "cell_type": "code",
   "execution_count": 179,
   "metadata": {},
   "outputs": [],
   "source": [
    "data = CirclesData()\n",
    "Xtrain = data.Xtrain\n",
    "Ytrain = data.Ytrain"
   ]
  },
  {
   "cell_type": "code",
   "execution_count": 180,
   "metadata": {},
   "outputs": [
    {
     "data": {
      "image/png": "[encoded data removed]",
      "text/plain": [
       "<Figure size 360x360 with 1 Axes>"
      ]
     },
     "metadata": {},
     "output_type": "display_data"
    }
   ],
   "source": [
    "data.plot_data() # affiche les points de train et test"
   ]
  },
  {
   "cell_type": "markdown",
   "metadata": {},
   "source": [
    "## Partie 1 "
   ]
  },
  {
   "cell_type": "code",
   "execution_count": 181,
   "metadata": {},
   "outputs": [],
   "source": [
    "def init_params(nx, nh, ny):\n",
    "    params = {}\n",
    "    params[\"Wh\"] = torch.tensor(np.array([gauss(0,0.3) for i in range (nh*nx)])).reshape(nh,nx).type(torch.FloatTensor)\n",
    "    params[\"Wy\"] = torch.tensor(np.array([gauss(0,0.3) for i in range (nh*ny)])).reshape(ny,nh).type(torch.FloatTensor)\n",
    "    params[\"bh\"] = torch.tensor(np.array([gauss(0,0.3) for i in range (nh)])).type(torch.FloatTensor)\n",
    "    params[\"by\"] = torch.tensor(np.array([gauss(0,0.3) for i in range (ny)])).type(torch.FloatTensor)\n",
    "    return params\n"
   ]
  },
  {
   "cell_type": "code",
   "execution_count": 193,
   "metadata": {},
   "outputs": [],
   "source": [
    "def forward(params, X):\n",
    "    outputs = {}\n",
    "    batch = X.shape[0]\n",
    "    Bh = params[\"bh\"] \n",
    "    By = params[\"by\"] \n",
    "    for i in range (batch-1): \n",
    "        Bh = torch.cat((Bh,params[\"bh\"]))\n",
    "        By = torch.cat((By,params[\"by\"]))\n",
    "    Bh = Bh.reshape((batch,len(params[\"bh\"]))).t()\n",
    "    By = By.reshape((batch,len(params[\"by\"])))\n",
    "    # TODO remplir avec les paramètres X, htilde, h, ytilde, yhat\n",
    "    htilde = torch.mm(X,params[\"Wh\"].t()).t() + Bh \n",
    "    h = torch.tanh(htilde).t()\n",
    "    ytilde = torch.mm(h,params[\"Wy\"].t())+By\n",
    "    activationF = torch.nn.Softmax(dim=1)\n",
    "    yhat = activationF(ytilde)\n",
    "    outputs['yhat'] = yhat \n",
    "    outputs['ytilde'] = ytilde \n",
    "    outputs['htilde'] = htilde \n",
    "    outputs['h'] = h \n",
    "    \n",
    "    return outputs['yhat'], outputs\n",
    "    \n",
    "\n"
   ]
  },
  {
   "cell_type": "code",
   "execution_count": 194,
   "metadata": {},
   "outputs": [],
   "source": [
    "def loss_accuracy(Yhat, Y):\n",
    "    L = 0\n",
    "    acc = 0\n",
    "    _,indsY = torch.max(Y,1)\n",
    "    _,indsYhat = torch.max(Yhat,1)\n",
    "    nbequals, =torch.where(indsY == indsYhat)\n",
    "    acc = nbequals.size()[0]/indsY.size()[0]\n",
    "    for i,j in enumerate(indsY) : \n",
    "        L += -torch.log(Yhat[i][j])\n",
    "    \n",
    "    return L, acc"
   ]
  },
  {
   "cell_type": "code",
   "execution_count": 195,
   "metadata": {},
   "outputs": [],
   "source": [
    "def backward(params, outputs, Y , X):\n",
    "    grads = {}\n",
    "    Dy_tilde = outputs['yhat'] - Y\n",
    "    grads[\"Wy\"] = torch.mm (Dy_tilde.t(),outputs['h'])\n",
    "    grads[\"by\"] =  torch.mean(Dy_tilde,0)\n",
    "    tmp = torch.mm(outputs['h'],outputs['h'].t())\n",
    "    onesTensor = torch.ones(tmp.shape)\n",
    "    Dh = torch.mm(Dy_tilde , params[\"Wy\"])\n",
    "    Dh_tilde = torch.mm( Dh.t(), (onesTensor-tmp) ) \n",
    "    grads[\"Wh\"] =  torch.mm(Dh_tilde,X)\n",
    "    grads[\"bh\"] = torch.mean(Dh_tilde,1)\n",
    "\n",
    "    return grads"
   ]
  },
  {
   "cell_type": "code",
   "execution_count": 213,
   "metadata": {},
   "outputs": [],
   "source": [
    "def sgd(params, grads, eta):\n",
    "    # TODO mettre à jour le contenu de params\n",
    "    params[\"Wh\"] -= eta*grads[\"Wh\"]\n",
    "    params[\"Wy\"] -= eta*grads[\"Wy\"]\n",
    "    params[\"by\"] -= eta*grads[\"by\"]\n",
    "    params[\"bh\"] -= eta*grads[\"bh\"]\n",
    "    return params"
   ]
  },
  {
   "cell_type": "code",
   "execution_count": 215,
   "metadata": {},
   "outputs": [
    {
     "data": {
      "image/png": "[encoded data removed]",
      "text/plain": [
       "<Figure size 432x288 with 1 Axes>"
      ]
     },
     "metadata": {},
     "output_type": "display_data"
    }
   ],
   "source": [
    "if __name__ == '__main__':\n",
    "    # init\n",
    "    data = CirclesData()\n",
    "    #data.plot_data()\n",
    "    N = data.Xtrain.shape[0]\n",
    "    Nbatch = 10\n",
    "    nx = data.Xtrain.shape[1]\n",
    "    nh = 10\n",
    "    ny = data.Ytrain.shape[1]\n",
    "    eta = 0.03\n",
    "    params = init_params(nx, nh, ny)\n",
    "    Nepoch = 100 \n",
    "    losses = []\n",
    "    for i in range(Nepoch): \n",
    "        for j in range (int(N/Nbatch)):\n",
    "            ind = np.random.randint(0,data.Xtrain.shape[1],Nbatch) \n",
    "            Xbatch = data.Xtrain[ind]\n",
    "            Ybatch = data.Ytrain[ind]\n",
    "            Yhat, outputs = forward(params, Xbatch)\n",
    "            L, _ = loss_accuracy(Yhat, Ybatch)\n",
    "            losses.append(L)\n",
    "            grads = backward(params, outputs, Ybatch, Xbatch)\n",
    "            params = sgd(params, grads, eta)\n",
    "    \n",
    "    plt.plot(np.arange(Nepoch*int(N/Nbatch)),losses)\n",
    "    \n",
    "\n",
    "    "
   ]
  },
  {
   "cell_type": "code",
   "execution_count": null,
   "metadata": {},
   "outputs": [],
   "source": []
  }
 ],
 "metadata": {
  "kernelspec": {
   "display_name": "Python 3",
   "language": "python",
   "name": "python3"
  },
  "language_info": {
   "codemirror_mode": {
    "name": "ipython",
    "version": 3
   },
   "file_extension": ".py",
   "mimetype": "text/x-python",
   "name": "python",
   "nbconvert_exporter": "python",
   "pygments_lexer": "ipython3",
   "version": "3.6.5"
  }
 },
 "nbformat": 4,
 "nbformat_minor": 2
}
